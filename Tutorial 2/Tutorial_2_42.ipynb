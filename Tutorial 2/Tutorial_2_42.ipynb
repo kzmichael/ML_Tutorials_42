{
  "nbformat": 4,
  "nbformat_minor": 0,
  "metadata": {
    "colab": {
      "name": "Tutorial_2_42.ipynb",
      "provenance": []
    },
    "kernelspec": {
      "name": "python3",
      "display_name": "Python 3"
    }
  },
  "cells": [
    {
      "cell_type": "code",
      "metadata": {
        "id": "xrZ1jNItWSeV"
      },
      "source": [
        "\r\n",
        "import matplotlib.pyplot as plt\r\n",
        "import numpy as np"
      ],
      "execution_count": 2,
      "outputs": []
    },
    {
      "cell_type": "code",
      "metadata": {
        "colab": {
          "base_uri": "https://localhost:8080/",
          "height": 265
        },
        "id": "SSTDB-7NWrkP",
        "outputId": "f0ca8f3e-8b20-48cd-fbb3-a746d9357d2d"
      },
      "source": [
        "x = np.array([1, 2, 3])\r\n",
        "y = np.array([1.2, 1.9, 3.2])\r\n",
        "plt.plot(x, y, 'bo')\r\n",
        "plt.show()"
      ],
      "execution_count": 5,
      "outputs": [
        {
          "output_type": "display_data",
          "data": {
            "image/png": "[encoded data removed]",
            "text/plain": [
              "<Figure size 432x288 with 1 Axes>"
            ]
          },
          "metadata": {
            "tags": [],
            "needs_background": "light"
          }
        }
      ]
    },
    {
      "cell_type": "code",
      "metadata": {
        "id": "EmDOb06BW-JO"
      },
      "source": [
        "def likelihood(x, y):\r\n",
        "  sum_x = x.sum()\r\n",
        "  sum_y = y.sum()\r\n",
        "  sum_xy = x.dot(y.T)\r\n",
        "  sum_xx = x.dot(x.T)\r\n",
        "  n = len(x)\r\n",
        "  \r\n",
        "  w1 = (sum_y*sum_x - sum_xy*n)/(sum_x*sum_x - n*sum_xx)\r\n",
        "  w0 = (sum_xy - w1*sum_xx)/sum_x\r\n",
        "  return w1, w0"
      ],
      "execution_count": 6,
      "outputs": []
    },
    {
      "cell_type": "code",
      "metadata": {
        "colab": {
          "base_uri": "https://localhost:8080/"
        },
        "id": "zQcP8bioXNQq",
        "outputId": "3e91ccad-a28d-4b79-950a-c28c3a71ade0"
      },
      "source": [
        "m, c = likelihood(x, y)\r\n",
        "print(m, c)"
      ],
      "execution_count": 7,
      "outputs": [
        {
          "output_type": "stream",
          "text": [
            "1.000000000000001 0.09999999999999758\n"
          ],
          "name": "stdout"
        }
      ]
    },
    {
      "cell_type": "code",
      "metadata": {
        "id": "mnnlcpyqXk49"
      },
      "source": [
        "y_cap = []\r\n",
        "for i in range(len(x)):\r\n",
        "  y_cap.append(m*x[i] + c)"
      ],
      "execution_count": 8,
      "outputs": []
    },
    {
      "cell_type": "code",
      "metadata": {
        "colab": {
          "base_uri": "https://localhost:8080/",
          "height": 265
        },
        "id": "l-SpFgfcXsQO",
        "outputId": "edd62fe4-567c-406a-c896-0883ce8ce327"
      },
      "source": [
        "plt.plot(x, y_cap)\r\n",
        "plt.plot(x, y, 'ro', alpha=0.8)\r\n",
        "plt.show()"
      ],
      "execution_count": 10,
      "outputs": [
        {
          "output_type": "display_data",
          "data": {
            "image/png": "[encoded data removed]",
            "text/plain": [
              "<Figure size 432x288 with 1 Axes>"
            ]
          },
          "metadata": {
            "tags": [],
            "needs_background": "light"
          }
        }
      ]
    }
  ]
}